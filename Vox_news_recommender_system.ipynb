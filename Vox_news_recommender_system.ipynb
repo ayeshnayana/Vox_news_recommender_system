{
 "cells": [
  {
   "cell_type": "code",
   "execution_count": 1,
   "metadata": {},
   "outputs": [],
   "source": [
    "from bs4 import BeautifulSoup\n",
    "import requests\n",
    "from gensim.summarization.summarizer import summarize\n",
    "from gensim.summarization import keywords"
   ]
  },
  {
   "cell_type": "code",
   "execution_count": 2,
   "metadata": {},
   "outputs": [],
   "source": [
    "def extract_website_data(url):\n",
    "    response = requests.get(url)\n",
    "    content = response.content\n",
    "    soup = soup = BeautifulSoup(content, 'html.parser') \n",
    "    links = soup.find_all('h2',{'class':'c-entry-box--compact__title'})\n",
    "    return soup, links"
   ]
  },
  {
   "cell_type": "code",
   "execution_count": 3,
   "metadata": {},
   "outputs": [],
   "source": [
    "def get_only_text(url):\n",
    "    page = requests.get(url)\n",
    "    soup = BeautifulSoup(page.content, \"lxml\")\n",
    "    text = ' '.join(map(lambda p: p.text, soup.find_all('p')))\n",
    "    title = ' '.join(soup.title.stripped_strings)\n",
    "    return title, text"
   ]
  },
  {
   "cell_type": "code",
   "execution_count": 4,
   "metadata": {},
   "outputs": [],
   "source": [
    "list_of_links = []\n",
    "list_of_summaries = []\n",
    "list_of_titles = []\n",
    "def generate_content(links):\n",
    "    for i in list(range(len(links))):\n",
    "        link = links[i].a.get('href')\n",
    "        list_of_links.append(link)\n",
    "        page_content = get_only_text(link)\n",
    "        summary = summarize(repr(page_content[1]), ratio=0.05)\n",
    "        list_of_summaries.append(summary)\n",
    "        list_of_titles.append(page_content[0])"
   ]
  },
  {
   "cell_type": "code",
   "execution_count": 5,
   "metadata": {},
   "outputs": [],
   "source": [
    "soup, links = extract_website_data(\"https://www.vox.com/\")\n",
    "generate_content(links)"
   ]
  },
  {
   "cell_type": "code",
   "execution_count": 11,
   "metadata": {},
   "outputs": [],
   "source": [
    "from sklearn.feature_extraction.text import TfidfVectorizer\n",
    "vectorizer = TfidfVectorizer()\n",
    "summary_mat = vectorizer.fit_transform(list_of_summaries)"
   ]
  },
  {
   "cell_type": "code",
   "execution_count": 15,
   "metadata": {},
   "outputs": [
    {
     "name": "stdout",
     "output_type": "stream",
     "text": [
      "(49, 2408)\n"
     ]
    }
   ],
   "source": [
    "print(summary_mat.shape)"
   ]
  },
  {
   "cell_type": "code",
   "execution_count": 16,
   "metadata": {},
   "outputs": [
    {
     "name": "stderr",
     "output_type": "stream",
     "text": [
      "C:\\Users\\ayesh\\anaconda3\\lib\\site-packages\\sklearn\\decomposition\\_nmf.py:1076: ConvergenceWarning: Maximum number of iterations 200 reached. Increase it to improve convergence.\n",
      "  warnings.warn(\"Maximum number of iterations %d reached. Increase it to\"\n"
     ]
    }
   ],
   "source": [
    "from sklearn.decomposition import NMF\n",
    "nmf = NMF(n_components=6)\n",
    "nmf_features = nmf.fit_transform(summary_mat)"
   ]
  },
  {
   "cell_type": "code",
   "execution_count": 18,
   "metadata": {},
   "outputs": [],
   "source": [
    "import pandas as pd\n",
    "from sklearn.preprocessing import normalize\n",
    "norm_features = normalize(nmf_features)\n",
    "df = pd.DataFrame(norm_features, index=list_of_titles)"
   ]
  },
  {
   "cell_type": "code",
   "execution_count": 19,
   "metadata": {},
   "outputs": [
    {
     "name": "stdout",
     "output_type": "stream",
     "text": [
      "['The Supreme Court’s polls are in free fall. Will that matter? - Vox', 'Effective altruism went from underfunded idea to  philanthropic force - Vox', 'The Inflation Reduction Act: The policies in the IRA, explained - Vox', 'How to come to terms with your own mortality - Vox', 'Recovering America’s Wildlife Act, explained - Vox', 'Nathan Fielder’s wild HBO show The Rehearsal, explained - Vox', 'Your monkeypox vaccine questions, answered - Vox', 'Vaccines for Covid-19 aren’t required in schools this fall - Vox', 'Vox’s audience support program, explained - Vox', 'How will the Inflation Reduction Act affect you? - Vox', 'Why the Inflation Reduction Act’s Senate passage is so significant - Vox', 'What does the Inflation Reduction Act do for climate change? - Vox', 'The Year of Miracles: Ella Risbridger cooks through the end of the world - Vox', 'Free online crossword puzzles from Vox - Vox', 'China-US relations will worsen after Taiwan crisis  - Vox', 'The best $4 I ever spent: A sparkly hijab - Vox', 'Bees might feel pain — and they might be sentient too - Vox', 'Careers - Vox Media', 'The Justice Department made a move in the police killing of Breonna Taylor  - Vox', 'How the CDC and public health agencies dropped the ball on the Monkeypox reponse - Vox', 'Viktor Orbán laid out his dark worldview to the American right — and they loved it - Vox', 'How can the US bring Brittney Griner home?  - Vox', 'Bad Bunny threw the party of the year for Puerto Ricans — and didn’t skip the politics - Vox', 'The Supreme Court vs. American democracy  - Vox', 'How the US monkeypox response is failing gay men  - Vox', 'Alex Jones will pay for defaming Sandy Hook parents, but we might never get back what his lie cost us all - Vox', 'Bullet Train review: Deeply derivative, and that’s its appeal - Vox', 'Will the Inflation Reduction Act would actually reduce inflation? We asked 3 experts - Vox', 'Why is Nancy Pelosi going to Taiwan? The controversy, explained. - Vox', 'How to get started with activism when you don’t know how - Vox', 'Somehow, people continue to underestimate Donald Trump. He’s still the GOP’s leader. - Vox', 'Second Covid-19 vaccine boosters, explained  - Vox', 'We have an affordable housing crisis. States are realizing they, too, can build homes. - Vox', 'The inflation and price increases that broke us, from groceries to gas - Vox', 'Did shark attacks eat into Woodrow Wilson’s votes in 1916? - Vox', 'See how big the Kansas abortion referendum failed in 4 charts - Vox', 'How Gordon Ramsay’s lamb slaughter joke explains our confusing relationship with meat - Vox', 'Kansas voted “no” on a constitutional amendment to curb abortion rights - Vox', 'The Biden administration’s lawsuit to stop bans on medically necessary abortions, explained - Vox', 'Ayman al-Zawahiri’s death by drone was President Biden’s opportunity to end the war on terrorism - Vox', 'Can humans make it rain?  - Vox', 'After the crypto crash comes the SEC crackdown - Vox', 'Instagram changes and updates draw ire of celebrities and everyone else - Vox', 'Stock market volatility, investing, and how to know your risk tolerance - Vox', 'Even Better', 'Kansas, Missouri, Arizona, and Michigan primary takeaways  - Vox', 'DeepMind’s AlphaFold could be the future of science and AI - Vox', 'Your AC can be cut off in a heat wave over an unpaid energy bill - Vox', 'How a polio case in New York affects global eradication efforts - Vox']\n"
     ]
    }
   ],
   "source": [
    "print(list_of_titles)"
   ]
  },
  {
   "cell_type": "code",
   "execution_count": 24,
   "metadata": {},
   "outputs": [
    {
     "name": "stdout",
     "output_type": "stream",
     "text": [
      "Your monkeypox vaccine questions, answered - Vox                                                                   1.000000\n",
      "How the CDC and public health agencies dropped the ball on the Monkeypox reponse - Vox                             0.999409\n",
      "How a polio case in New York affects global eradication efforts - Vox                                              0.999375\n",
      "Second Covid-19 vaccine boosters, explained  - Vox                                                                 0.997559\n",
      "Vaccines for Covid-19 aren’t required in schools this fall - Vox                                                   0.996610\n",
      "Your AC can be cut off in a heat wave over an unpaid energy bill - Vox                                             0.979745\n",
      "We have an affordable housing crisis. States are realizing they, too, can build homes. - Vox                       0.973052\n",
      "How the US monkeypox response is failing gay men  - Vox                                                            0.931747\n",
      "The Biden administration’s lawsuit to stop bans on medically necessary abortions, explained - Vox                  0.697533\n",
      "DeepMind’s AlphaFold could be the future of science and AI - Vox                                                   0.597099\n",
      "Recovering America’s Wildlife Act, explained - Vox                                                                 0.424210\n",
      "Ayman al-Zawahiri’s death by drone was President Biden’s opportunity to end the war on terrorism - Vox             0.263659\n",
      "Instagram changes and updates draw ire of celebrities and everyone else - Vox                                      0.193968\n",
      "Somehow, people continue to underestimate Donald Trump. He’s still the GOP’s leader. - Vox                         0.139141\n",
      "The Supreme Court’s polls are in free fall. Will that matter? - Vox                                                0.111060\n",
      "How can the US bring Brittney Griner home?  - Vox                                                                  0.108830\n",
      "Effective altruism went from underfunded idea to  philanthropic force - Vox                                        0.085281\n",
      "Did shark attacks eat into Woodrow Wilson’s votes in 1916? - Vox                                                   0.069758\n",
      "Alex Jones will pay for defaming Sandy Hook parents, but we might never get back what his lie cost us all - Vox    0.065077\n",
      "The Justice Department made a move in the police killing of Breonna Taylor  - Vox                                  0.059447\n",
      "Will the Inflation Reduction Act would actually reduce inflation? We asked 3 experts - Vox                         0.053020\n",
      "The Supreme Court vs. American democracy  - Vox                                                                    0.047682\n",
      "The best $4 I ever spent: A sparkly hijab - Vox                                                                    0.047597\n",
      "See how big the Kansas abortion referendum failed in 4 charts - Vox                                                0.034375\n",
      "Kansas, Missouri, Arizona, and Michigan primary takeaways  - Vox                                                   0.034373\n",
      "Kansas voted “no” on a constitutional amendment to curb abortion rights - Vox                                      0.034336\n",
      "The Inflation Reduction Act: The policies in the IRA, explained - Vox                                              0.006944\n",
      "How Gordon Ramsay’s lamb slaughter joke explains our confusing relationship with meat - Vox                        0.003508\n",
      "The Year of Miracles: Ella Risbridger cooks through the end of the world - Vox                                     0.001659\n",
      "Nathan Fielder’s wild HBO show The Rehearsal, explained - Vox                                                      0.000000\n",
      "How to come to terms with your own mortality - Vox                                                                 0.000000\n",
      "Vox’s audience support program, explained - Vox                                                                    0.000000\n",
      "How will the Inflation Reduction Act affect you? - Vox                                                             0.000000\n",
      "Why the Inflation Reduction Act’s Senate passage is so significant - Vox                                           0.000000\n",
      "What does the Inflation Reduction Act do for climate change? - Vox                                                 0.000000\n",
      "Can humans make it rain?  - Vox                                                                                    0.000000\n",
      "Free online crossword puzzles from Vox - Vox                                                                       0.000000\n",
      "China-US relations will worsen after Taiwan crisis  - Vox                                                          0.000000\n",
      "Bees might feel pain — and they might be sentient too - Vox                                                        0.000000\n",
      "Careers - Vox Media                                                                                                0.000000\n",
      "Even Better                                                                                                        0.000000\n",
      "Bad Bunny threw the party of the year for Puerto Ricans — and didn’t skip the politics - Vox                       0.000000\n",
      "Stock market volatility, investing, and how to know your risk tolerance - Vox                                      0.000000\n",
      "Bullet Train review: Deeply derivative, and that’s its appeal - Vox                                                0.000000\n",
      "Why is Nancy Pelosi going to Taiwan? The controversy, explained. - Vox                                             0.000000\n",
      "How to get started with activism when you don’t know how - Vox                                                     0.000000\n",
      "After the crypto crash comes the SEC crackdown - Vox                                                               0.000000\n",
      "The inflation and price increases that broke us, from groceries to gas - Vox                                       0.000000\n",
      "Viktor Orbán laid out his dark worldview to the American right — and they loved it - Vox                           0.000000\n",
      "dtype: float64\n"
     ]
    }
   ],
   "source": [
    "current_article = df.loc['Your monkeypox vaccine questions, answered - Vox']\n",
    "similarities = df.dot(current_article)\n",
    "print(similarities.sort_values(ascending=False))"
   ]
  },
  {
   "cell_type": "code",
   "execution_count": null,
   "metadata": {},
   "outputs": [],
   "source": []
  }
 ],
 "metadata": {
  "kernelspec": {
   "display_name": "Python 3",
   "language": "python",
   "name": "python3"
  },
  "language_info": {
   "codemirror_mode": {
    "name": "ipython",
    "version": 3
   },
   "file_extension": ".py",
   "mimetype": "text/x-python",
   "name": "python",
   "nbconvert_exporter": "python",
   "pygments_lexer": "ipython3",
   "version": "3.8.3"
  }
 },
 "nbformat": 4,
 "nbformat_minor": 4
}
